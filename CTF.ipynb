{
  "nbformat": 4,
  "nbformat_minor": 0,
  "metadata": {
    "colab": {
      "name": "Untitled3.ipynb",
      "provenance": [],
      "authorship_tag": "ABX9TyPND5Vo9EAmVCTN/lnOasUI",
      "include_colab_link": true
    },
    "kernelspec": {
      "name": "python3",
      "display_name": "Python 3"
    }
  },
  "cells": [
    {
      "cell_type": "markdown",
      "metadata": {
        "id": "view-in-github",
        "colab_type": "text"
      },
      "source": [
        "<a href=\"https://colab.research.google.com/github/Sunilkv20164012/Utilities/blob/master/CTF.ipynb\" target=\"_parent\"><img src=\"https://colab.research.google.com/assets/colab-badge.svg\" alt=\"Open In Colab\"/></a>"
      ]
    },
    {
      "cell_type": "code",
      "metadata": {
        "id": "qT9v54ZQHRel",
        "colab_type": "code",
        "colab": {}
      },
      "source": [
        "!wget -c https://storage.googleapis.com/gctf-2019-attachments/768be4f10429f613eb27fa3e3937fe21c7581bdca97d6909e070ab6f7dbf2fbf\n"
      ],
      "execution_count": 0,
      "outputs": []
    },
    {
      "cell_type": "code",
      "metadata": {
        "id": "J7Jav7fwHeM1",
        "colab_type": "code",
        "colab": {}
      },
      "source": [
        "!unzip 768be4f10429f613eb27fa3e3937fe21c7581bdca97d6909e070ab6f7dbf2fbf"
      ],
      "execution_count": 0,
      "outputs": []
    },
    {
      "cell_type": "code",
      "metadata": {
        "id": "__gxOqIcHomC",
        "colab_type": "code",
        "colab": {}
      },
      "source": [
        "!chmod +x init_sat"
      ],
      "execution_count": 0,
      "outputs": []
    },
    {
      "cell_type": "code",
      "metadata": {
        "id": "79PMkWThHtez",
        "colab_type": "code",
        "colab": {
          "base_uri": "https://localhost:8080/",
          "height": 234
        },
        "outputId": "fcc7b7cc-a439-4fd5-8958-08b3133ffd8c"
      },
      "source": [
        "!./init_sat"
      ],
      "execution_count": 0,
      "outputs": [
        {
          "output_type": "stream",
          "text": [
            "Hello Operator. Ready to connect to a satellite?\n",
            "Enter the name of the satellite to connect to or 'exit' to quit\n",
            "osmium\n",
            "Establishing secure connection to osmium\n",
            " satellite...\n",
            "Welcome. Enter (a) to display config data, (b) to erase all data or (c) to disconnect\n",
            "\n",
            "a\n",
            "Username: brewtoot password: ********************\t166.00 IS-19 2019/05/09 00:00:00\tSwath 640km\tRevisit capacity twice daily, anywhere Resolution panchromatic: 30cm multispectral: 1.2m\tDaily acquisition capacity: 220,000km²\tRemaining config data written to: https://docs.google.com/document/d/14eYPluD_pi3824GAFanS29tWdTcKxP_XUxx7e303-3E\n",
            "\n"
          ],
          "name": "stdout"
        }
      ]
    }
  ]
}