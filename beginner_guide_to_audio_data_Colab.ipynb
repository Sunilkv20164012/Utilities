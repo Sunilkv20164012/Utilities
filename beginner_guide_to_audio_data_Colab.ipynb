{
  "nbformat": 4,
  "nbformat_minor": 0,
  "metadata": {
    "language_info": {
      "name": "python",
      "version": "3.6.4",
      "mimetype": "text/x-python",
      "codemirror_mode": {
        "name": "ipython",
        "version": 3
      },
      "pygments_lexer": "ipython3",
      "nbconvert_exporter": "python",
      "file_extension": ".py"
    },
    "kernelspec": {
      "display_name": "Python 3",
      "language": "python",
      "name": "python3"
    },
    "colab": {
      "name": "beginner-s-guide-to-audio-data.ipynb",
      "provenance": [],
      "collapsed_sections": [
        "gLB1O5y8cSfY",
        "Cgjmv2dNcSfm",
        "eTrdvbFmcSfs",
        "OqiIcu7hcSfw",
        "kWHEkFVFcSf2",
        "HOwReRu8cSgC",
        "L6_y61lUcSgf",
        "tfpF3x91cSgg",
        "5OES7KbYcSgj"
      ],
      "toc_visible": true,
      "include_colab_link": true
    }
  },
  "cells": [
    {
      "cell_type": "markdown",
      "metadata": {
        "id": "view-in-github",
        "colab_type": "text"
      },
      "source": [
        "<a href=\"https://colab.research.google.com/github/Sunilkv20164012/Utilities/blob/master/beginner_guide_to_audio_data_Colab.ipynb\" target=\"_parent\"><img src=\"https://colab.research.google.com/assets/colab-badge.svg\" alt=\"Open In Colab\"/></a>"
      ]
    },
    {
      "cell_type": "code",
      "metadata": {
        "id": "7UXMU7_RcbMi",
        "colab_type": "code",
        "outputId": "34459aee-85df-42bb-fe82-445c4520ef94",
        "colab": {
          "base_uri": "https://localhost:8080/",
          "height": 121
        }
      },
      "source": [
        "from google.colab import drive\n",
        "drive.mount('/content/drive')"
      ],
      "execution_count": 0,
      "outputs": [
        {
          "output_type": "stream",
          "text": [
            "Go to this URL in a browser: https://accounts.google.com/o/oauth2/auth?client_id=947318989803-6bn6qk8qdgf4n4g3pfee6491hc0brc4i.apps.googleusercontent.com&redirect_uri=urn%3aietf%3awg%3aoauth%3a2.0%3aoob&response_type=code&scope=email%20https%3a%2f%2fwww.googleapis.com%2fauth%2fdocs.test%20https%3a%2f%2fwww.googleapis.com%2fauth%2fdrive%20https%3a%2f%2fwww.googleapis.com%2fauth%2fdrive.photos.readonly%20https%3a%2f%2fwww.googleapis.com%2fauth%2fpeopleapi.readonly\n",
            "\n",
            "Enter your authorization code:\n",
            "··········\n",
            "Mounted at /content/drive\n"
          ],
          "name": "stdout"
        }
      ]
    },
    {
      "cell_type": "markdown",
      "metadata": {
        "_cell_guid": "f5be4ac1-d0a2-442b-ac57-f7b0c764dae9",
        "_uuid": "876f0b63cba53419fbf7527034bf2c5f93885309",
        "id": "6obJXCa8cSeL",
        "colab_type": "text"
      },
      "source": [
        "# <center>Freesound General-Purpose Audio Tagging Challenge</center>\n",
        "\n",
        "![Logo](https://upload.wikimedia.org/wikipedia/commons/3/3c/Freesound_project_website_logo.png)\n",
        "\n",
        "Freesound is a collaborative database of Creative Commons Licensed sounds. The aim of this competition is to classify audio files that cover real-world sounds from musical instruments, humans, animals, machines, etc. Few of the labels are: `Trumpet`, `Squeak`, `Meow`, `Applause` and `Finger_sapping`.  One of the challenges is that not all labels are manually verified. A creative solution should be able to partially rely on these *weak* annotations.\n",
        "\n",
        "Let's take a tour of the data visualization and model building through this kernel. If you like this work, please show your support by upvotes. Happy Kaggling!\n",
        "\n",
        "### Contents\n",
        "1. [Exploratory Data Analysis](#eda)\n",
        "    * [Loading data](#loading_data)\n",
        "    * [Distribution of Categories](#distribution)\n",
        "    * [Reading Audio Files](#audio_files)\n",
        "    * [Audio Length](#audio_length)\n",
        "2. [Building a Model using Raw Wave](#1d_model_building)\n",
        "    * [Model Discription](#1d_discription)\n",
        "    * [Configuration](#configuration)\n",
        "    * [DataGenerator class](#data_generator)\n",
        "    * [Normalization](#1d_normalization)\n",
        "    * [Training 1D Conv](#1d_training)\n",
        "    * [Ensembling 1D Conv Predictions](#1d_ensembling)\n",
        "3. [Introduction to MFCC](#intro_mfcc)\n",
        "    * [Generating MFCC using Librosa](#librosa_mfcc)\n",
        "4. [Building a Model using MFCC](#2d_model_building)\n",
        "    * [Preparing Data](#2d_data)\n",
        "    * [Normalization](#2d_normalization)\n",
        "    * [Training 2D Conv on MFCC](#2d_training)\n",
        "    * [Ensembling 2D Conv Predictions](#2d_ensembling)\n",
        "5. [Ensembling 1D Conv and 2D Conv Predictions](#1d_2d_ensembling)\n",
        "6. [Results and Conclusion](#conclusion)\n",
        "\n",
        "\n",
        "<a id=\"eda\"></a>\n",
        "## <center>1. Exploratory Data Analysis</center>"
      ]
    },
    {
      "cell_type": "code",
      "metadata": {
        "_cell_guid": "39ab28e6-67b2-4129-9dbb-846c81ba85f2",
        "_uuid": "d00095bca1801c4058b75e706058a0651808596f",
        "trusted": false,
        "id": "3Z8t0y9YcSeP",
        "colab_type": "code",
        "colab": {}
      },
      "source": [
        "# Change this to True to replicate the result\n",
        "COMPLETE_RUN = False"
      ],
      "execution_count": 0,
      "outputs": []
    },
    {
      "cell_type": "markdown",
      "metadata": {
        "_cell_guid": "d4905db9-005f-42f0-aa6b-1408acef7371",
        "_uuid": "4c065a37dd33e869d93ccd8d78daed628e58112b",
        "id": "HxyQlRzIcSeT",
        "colab_type": "text"
      },
      "source": [
        "<a id=\"loading_data\"></a>\n",
        "### Loading data"
      ]
    },
    {
      "cell_type": "code",
      "metadata": {
        "_cell_guid": "5abea3ac-4fa5-4c4f-893f-7f2afa49e523",
        "_uuid": "337e0950ca948be32d5d881c1a3c675ccf7ac523",
        "_kg_hide-output": true,
        "trusted": false,
        "id": "zpy8Kr4dcSeU",
        "colab_type": "code",
        "colab": {}
      },
      "source": [
        "import numpy as np\n",
        "np.random.seed(1001)\n",
        "\n",
        "import os\n",
        "import shutil\n",
        "\n",
        "import IPython\n",
        "import matplotlib\n",
        "import matplotlib.pyplot as plt\n",
        "import pandas as pd\n",
        "import seaborn as sns\n",
        "from tqdm import tqdm_notebook\n",
        "from sklearn.model_selection import StratifiedKFold\n",
        "\n",
        "%matplotlib inline\n",
        "matplotlib.style.use('ggplot')"
      ],
      "execution_count": 0,
      "outputs": []
    },
    {
      "cell_type": "code",
      "metadata": {
        "id": "wllwNTHNddCt",
        "colab_type": "code",
        "colab": {}
      },
      "source": [
        "import os\n",
        "os.environ['KAGGLE_CONFIG_DIR'] = \"/content/drive/My Drive/\""
      ],
      "execution_count": 0,
      "outputs": []
    },
    {
      "cell_type": "code",
      "metadata": {
        "id": "6z_jdUGIe_V9",
        "colab_type": "code",
        "colab": {}
      },
      "source": [
        "!kaggle competitions download -c freesound-audio-tagging"
      ],
      "execution_count": 0,
      "outputs": []
    },
    {
      "cell_type": "code",
      "metadata": {
        "id": "Tp7umviixkM6",
        "colab_type": "code",
        "colab": {}
      },
      "source": [
        "!touch datak.zip"
      ],
      "execution_count": 0,
      "outputs": []
    },
    {
      "cell_type": "code",
      "metadata": {
        "id": "YQ7qiR6Qw-Km",
        "colab_type": "code",
        "colab": {}
      },
      "source": [
        "import requests  \n",
        "file_url = \"https://storage.googleapis.com/kaggle-competitions-data/kaggle-v2/8900/862232/bundle/archive.zip?GoogleAccessId=web-data@kaggle-161607.iam.gserviceaccount.com&Expires=1578940774&Signature=E4fSyw5%2FEgfratRtpSYWxm9ptk8PQoJs5GFns54UJwD16c33MW0oOFNW%2B0FjeT6NCad9O8o5oRWyTc81RmYUgA3DeYgzZKdWuoYSrqqwG6X1o8TIHJXMvpy%2BROFgMxNOKP82o0OMj%2BUUoaxy5UGNzttkgW6%2B5Ygavnd81hmI3Fr8%2Fsp7l2TzpQ81LolhO%2F0XV%2FZE1Tt2f9s9QGPIPFJu4rsNa8VMuYZ79eM9X8M3tFF264b0awwxEC6YRTyKOqRLgvjVnFmFJjoIkuMgV9pDMHhsN%2Fob4dx5Euca%2B95cITgqj%2FPy%2FW5BA3bXAOXmIElp0nkV4WK%2B8%2FDr4UgQRkek5A%3D%3D&response-content-disposition=attachment%3B+filename%3Dfreesound-audio-tagging.zip\"\n",
        "    \n",
        "r = requests.get(file_url, stream = True)  \n",
        "  \n",
        "with open(\"/content/drive/My Drive/datak.zip\", \"wb\") as file:  \n",
        "    for block in r.iter_content(chunk_size = 1024): \n",
        "         if block:  \n",
        "             file.write(block)  "
      ],
      "execution_count": 0,
      "outputs": []
    },
    {
      "cell_type": "code",
      "metadata": {
        "id": "yPluxLXRzHn-",
        "colab_type": "code",
        "colab": {}
      },
      "source": [
        "!pwd\n",
        "!unzip \"/content/drive/My Drive/datak.zip\""
      ],
      "execution_count": 0,
      "outputs": []
    },
    {
      "cell_type": "code",
      "metadata": {
        "id": "Nc8tYg4WvXVH",
        "colab_type": "code",
        "colab": {}
      },
      "source": [
        "# !wget --user=linus509 https://storage.googleapis.com/kaggle-competitions-data/kaggle-v2/8900/862232/bundle/archive.zip?GoogleAccessId=web-data@kaggle-161607.iam.gserviceaccount.com&Expires=1578940774&Signature=E4fSyw5%2FEgfratRtpSYWxm9ptk8PQoJs5GFns54UJwD16c33MW0oOFNW%2B0FjeT6NCad9O8o5oRWyTc81RmYUgA3DeYgzZKdWuoYSrqqwG6X1o8TIHJXMvpy%2BROFgMxNOKP82o0OMj%2BUUoaxy5UGNzttkgW6%2B5Ygavnd81hmI3Fr8%2Fsp7l2TzpQ81LolhO%2F0XV%2FZE1Tt2f9s9QGPIPFJu4rsNa8VMuYZ79eM9X8M3tFF264b0awwxEC6YRTyKOqRLgvjVnFmFJjoIkuMgV9pDMHhsN%2Fob4dx5Euca%2B95cITgqj%2FPy%2FW5BA3bXAOXmIElp0nkV4WK%2B8%2FDr4UgQRkek5A%3D%3D&response-content-disposition=attachment%3B+filename%3Dfreesound-audio-tagging.zip"
      ],
      "execution_count": 0,
      "outputs": []
    },
    {
      "cell_type": "code",
      "metadata": {
        "_cell_guid": "97700e3e-82e1-4ce2-9da4-3f8f264e7558",
        "_uuid": "2ca1929548de57afb1c4fde19c10f7b18c64264e",
        "_kg_hide-output": true,
        "trusted": false,
        "id": "ezBqYqN8cSeZ",
        "colab_type": "code",
        "colab": {}
      },
      "source": [
        "train = pd.read_csv(\"train.csv\")\n",
        "test = pd.read_csv(\"sample_submission.csv\")"
      ],
      "execution_count": 0,
      "outputs": []
    },
    {
      "cell_type": "code",
      "metadata": {
        "_cell_guid": "a418ce4d-b104-4710-b50d-e9ab1e7e420f",
        "_uuid": "1acc16aa65e8f39a5abd8b60906740a671659f1b",
        "_kg_hide-output": true,
        "trusted": false,
        "id": "_3P2X2mpcSed",
        "colab_type": "code",
        "colab": {
          "base_uri": "https://localhost:8080/",
          "height": 195
        },
        "outputId": "e2169fbe-0271-4910-cd2d-682c7a3ce733"
      },
      "source": [
        "train.head()\n",
        "train.tail()"
      ],
      "execution_count": 25,
      "outputs": [
        {
          "output_type": "execute_result",
          "data": {
            "text/html": [
              "<div>\n",
              "<style scoped>\n",
              "    .dataframe tbody tr th:only-of-type {\n",
              "        vertical-align: middle;\n",
              "    }\n",
              "\n",
              "    .dataframe tbody tr th {\n",
              "        vertical-align: top;\n",
              "    }\n",
              "\n",
              "    .dataframe thead th {\n",
              "        text-align: right;\n",
              "    }\n",
              "</style>\n",
              "<table border=\"1\" class=\"dataframe\">\n",
              "  <thead>\n",
              "    <tr style=\"text-align: right;\">\n",
              "      <th></th>\n",
              "      <th>fname</th>\n",
              "      <th>label</th>\n",
              "      <th>manually_verified</th>\n",
              "    </tr>\n",
              "  </thead>\n",
              "  <tbody>\n",
              "    <tr>\n",
              "      <th>9468</th>\n",
              "      <td>ffec59fb.wav</td>\n",
              "      <td>Fireworks</td>\n",
              "      <td>0</td>\n",
              "    </tr>\n",
              "    <tr>\n",
              "      <th>9469</th>\n",
              "      <td>fff37590.wav</td>\n",
              "      <td>Hi-hat</td>\n",
              "      <td>0</td>\n",
              "    </tr>\n",
              "    <tr>\n",
              "      <th>9470</th>\n",
              "      <td>fff44ac6.wav</td>\n",
              "      <td>Laughter</td>\n",
              "      <td>0</td>\n",
              "    </tr>\n",
              "    <tr>\n",
              "      <th>9471</th>\n",
              "      <td>fff6a13d.wav</td>\n",
              "      <td>Chime</td>\n",
              "      <td>0</td>\n",
              "    </tr>\n",
              "    <tr>\n",
              "      <th>9472</th>\n",
              "      <td>fff81f55.wav</td>\n",
              "      <td>Cough</td>\n",
              "      <td>1</td>\n",
              "    </tr>\n",
              "  </tbody>\n",
              "</table>\n",
              "</div>"
            ],
            "text/plain": [
              "             fname      label  manually_verified\n",
              "9468  ffec59fb.wav  Fireworks                  0\n",
              "9469  fff37590.wav     Hi-hat                  0\n",
              "9470  fff44ac6.wav   Laughter                  0\n",
              "9471  fff6a13d.wav      Chime                  0\n",
              "9472  fff81f55.wav      Cough                  1"
            ]
          },
          "metadata": {
            "tags": []
          },
          "execution_count": 25
        }
      ]
    },
    {
      "cell_type": "code",
      "metadata": {
        "scrolled": true,
        "_cell_guid": "afceb447-9a8f-4cc4-a7b2-eabc75c3f0aa",
        "_uuid": "dad27c6a5ef1fdad658ce710fe16fca58c75a05c",
        "_kg_hide-output": true,
        "trusted": false,
        "id": "VPm9XuwkcSeg",
        "colab_type": "code",
        "colab": {}
      },
      "source": [
        "print(\"Number of training examples=\", train.shape[0], \"  Number of classes=\", len(train.label.unique()))"
      ],
      "execution_count": 0,
      "outputs": []
    },
    {
      "cell_type": "code",
      "metadata": {
        "_cell_guid": "99b8ebbd-aa18-427a-ab33-e88553a564f6",
        "_uuid": "0c3e7629b5e60cfad2a7e1681dcf6e7c55c92e43",
        "_kg_hide-output": true,
        "trusted": false,
        "id": "rI7TWE-ccSek",
        "colab_type": "code",
        "colab": {}
      },
      "source": [
        "print(train.label.unique())"
      ],
      "execution_count": 0,
      "outputs": []
    },
    {
      "cell_type": "markdown",
      "metadata": {
        "_cell_guid": "008c5a97-9c50-4a52-9b65-568986f9bbd6",
        "_uuid": "2edb326e66f4c699bd3cc5ec43279d40e7777180",
        "id": "Bi1YLsKOcSep",
        "colab_type": "text"
      },
      "source": [
        "<a id=\"distribution\"></a>\n",
        "### Distribution of Categories"
      ]
    },
    {
      "cell_type": "code",
      "metadata": {
        "scrolled": false,
        "_cell_guid": "67e5b2e9-cee7-4bf0-84d4-b79bfa6928fd",
        "_uuid": "fef9ca7602b65d3637884eddd38fa5f01a530e81",
        "trusted": false,
        "id": "cLyJsIsVcSeq",
        "colab_type": "code",
        "colab": {}
      },
      "source": [
        "category_group = train.groupby(['label', 'manually_verified']).count()\n",
        "plot = category_group.unstack().reindex(category_group.unstack().sum(axis=1).sort_values().index)\\\n",
        "          .plot(kind='bar', stacked=True, title=\"Number of Audio Samples per Category\", figsize=(16,10))\n",
        "plot.set_xlabel(\"Category\")\n",
        "plot.set_ylabel(\"Number of Samples\");"
      ],
      "execution_count": 0,
      "outputs": []
    },
    {
      "cell_type": "code",
      "metadata": {
        "_cell_guid": "29538dc2-387a-4910-a203-f105c97ce0e6",
        "_uuid": "c2ca61efa1696baa87f831f7df927fd1cba7abbf",
        "_kg_hide-output": true,
        "trusted": false,
        "id": "HJ_6Pjs4cSet",
        "colab_type": "code",
        "colab": {
          "base_uri": "https://localhost:8080/",
          "height": 50
        },
        "outputId": "5312c7e1-de78-4ea4-8357-868532ebea1e"
      },
      "source": [
        "print('Minimum samples per category = ', min(train.label.value_counts()))\n",
        "print('Maximum samples per category = ', max(train.label.value_counts()))"
      ],
      "execution_count": 29,
      "outputs": [
        {
          "output_type": "stream",
          "text": [
            "Minimum samples per category =  94\n",
            "Maximum samples per category =  300\n"
          ],
          "name": "stdout"
        }
      ]
    },
    {
      "cell_type": "markdown",
      "metadata": {
        "_cell_guid": "a715d812-98fc-459a-8695-13940b2ca1de",
        "_uuid": "d0ed18e06d39f962d1a2a58f4743171c9c4970e9",
        "id": "OSu41rCKcSev",
        "colab_type": "text"
      },
      "source": [
        "We observe that:\n",
        "1. The number of audio samples per category is **non-nform**. The minimum number of audio samples in a category is `94` while the maximum is `300`\n",
        "2. Also, the proportion of `maually_verified` labels per category is non-uniform.\n",
        "<a id=\"audio_files\"></a>\n",
        "### Reading Audio Files\n",
        "\n",
        "The audios are [Pulse-code modulated](https://en.wikipedia.org/wiki/Audio_bit_depth) with a [bit depth](https://en.wikipedia.org/wiki/Audio_bit_depth) of 16 and a [sampling rate](https://en.wikipedia.org/wiki/Sampling_%28signal_processing%29) of 44.1 kHz\n",
        "\n",
        "![16-bit PCM](https://upload.wikimedia.org/wikipedia/commons/thumb/b/bf/Pcm.svg/500px-Pcm.svg.png)\n",
        "\n",
        "* **Bit-depth = 16**: The amplitude of each sample in the audio is one of 2^16 (=65536) possible values. \n",
        "* **Samplig rate = 44.1 kHz**: Each second in the audio consists of 44100 samples. So, if the duration of the audio file is 3.2 seconds, the audio will consist of 44100\\*3.2 = 141120 values.\n",
        "\n",
        "Let's listen to an audio file in our dataset and load it to a numpy array"
      ]
    },
    {
      "cell_type": "code",
      "metadata": {
        "_cell_guid": "20d2c517-01f9-46a9-b339-6ce415bc59d2",
        "_uuid": "e15d81dcb2a4433b94182eb588ccb183e27fa700",
        "trusted": false,
        "id": "8e4WbdnucSew",
        "colab_type": "code",
        "colab": {
          "base_uri": "https://localhost:8080/",
          "height": 75
        },
        "outputId": "acbf97c5-2890-4a93-e962-ca70f91f3612"
      },
      "source": [
        "import IPython.display as ipd  # To play sound in the notebook\n",
        "fname = \"0048fd00.wav\"   # Hi-hat\n",
        "ipd.Audio(fname)"
      ],
      "execution_count": 37,
      "outputs": [
        {
          "output_type": "execute_result",
          "data": {
            "text/html": [
              "\n",
              "                <audio controls=\"controls\" >\n",
              "                    <source src=\"data:audio/x-wav;base64,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\" type=\"audio/x-wav\" />\n",
              "                    Your browser does not support the audio element.\n",
              "                </audio>\n",
              "              "
            ],
            "text/plain": [
              "<IPython.lib.display.Audio object>"
            ]
          },
          "metadata": {
            "tags": []
          },
          "execution_count": 37
        }
      ]
    },
    {
      "cell_type": "code",
      "metadata": {
        "_cell_guid": "efe10cb8-13f1-405e-8b71-ca5758ee18d4",
        "_uuid": "101f9997c5c8cd0392c1f367684331d3f6e80422",
        "trusted": false,
        "id": "dp6oR-uTcSez",
        "colab_type": "code",
        "colab": {
          "base_uri": "https://localhost:8080/",
          "height": 67
        },
        "outputId": "3c33d5ce-f8c0-4acd-8aaf-81519ba3ad9c"
      },
      "source": [
        "# Using wave library\n",
        "import wave\n",
        "wav = wave.open(fname)\n",
        "print(\"Sampling (frame) rate = \", wav.getframerate())\n",
        "print(\"Total samples (frames) = \", wav.getnframes())\n",
        "print(\"Duration = \", wav.getnframes()/wav.getframerate())"
      ],
      "execution_count": 38,
      "outputs": [
        {
          "output_type": "stream",
          "text": [
            "Sampling (frame) rate =  44100\n",
            "Total samples (frames) =  45864\n",
            "Duration =  1.04\n"
          ],
          "name": "stdout"
        }
      ]
    },
    {
      "cell_type": "code",
      "metadata": {
        "_cell_guid": "3c9f1564-fa50-4f4b-87d9-2070fc44770d",
        "_uuid": "e4ea69354f032c0b511b50693c750e19fb4f6cb3",
        "trusted": false,
        "id": "h4W0Y5MncSe6",
        "colab_type": "code",
        "colab": {
          "base_uri": "https://localhost:8080/",
          "height": 67
        },
        "outputId": "d9ade3d8-b290-482b-a8f5-c81002b2c182"
      },
      "source": [
        "# Using scipy\n",
        "from scipy.io import wavfile\n",
        "rate, data = wavfile.read(fname)\n",
        "print(\"Sampling (frame) rate = \", rate)\n",
        "print(\"Total samples (frames) = \", data.shape)\n",
        "print(data)"
      ],
      "execution_count": 39,
      "outputs": [
        {
          "output_type": "stream",
          "text": [
            "Sampling (frame) rate =  44100\n",
            "Total samples (frames) =  (45864,)\n",
            "[-20 -23 -23 ...  -1  -2  -3]\n"
          ],
          "name": "stdout"
        }
      ]
    },
    {
      "cell_type": "markdown",
      "metadata": {
        "_cell_guid": "3c6c2a6f-4914-4e13-84be-6b8492487c7b",
        "_uuid": "bacb576c223074c03d0cb5c55b917df2e1261498",
        "id": "glbnMkvRcSe-",
        "colab_type": "text"
      },
      "source": [
        "Let's plot the audio frames"
      ]
    },
    {
      "cell_type": "code",
      "metadata": {
        "scrolled": false,
        "_cell_guid": "eeb3e8ab-106f-4e67-84fd-7bf8c9847c8e",
        "_uuid": "a1e25d48f74b38784d7588e5c33af9b03248e7d3",
        "trusted": false,
        "id": "uEaA7MOlcSe_",
        "colab_type": "code",
        "colab": {}
      },
      "source": [
        "plt.plot(data, '-', );"
      ],
      "execution_count": 0,
      "outputs": []
    },
    {
      "cell_type": "markdown",
      "metadata": {
        "_cell_guid": "79293dfd-e254-47f3-8909-ff32f08f87aa",
        "_uuid": "762301b9c5d7653d761205e172ff3da88745400f",
        "id": "vK01w-FJcSfC",
        "colab_type": "text"
      },
      "source": [
        "Let's zoom in on first 1000 frames"
      ]
    },
    {
      "cell_type": "code",
      "metadata": {
        "_cell_guid": "bfb06a3e-b501-4570-89ea-008781414144",
        "_uuid": "7c1b21e52e83d0bc723a48a32ced87445a540fa9",
        "trusted": false,
        "id": "Y2fhwrlvcSfD",
        "colab_type": "code",
        "colab": {}
      },
      "source": [
        "plt.figure(figsize=(16, 4))\n",
        "plt.plot(data[:500], '.'); \n",
        "plt.plot(data[:500], '-');"
      ],
      "execution_count": 0,
      "outputs": []
    },
    {
      "cell_type": "markdown",
      "metadata": {
        "_cell_guid": "42761f3d-0d20-4a97-843a-02186299f76b",
        "_uuid": "b3a730fc5ee4a9ab5904cddda84a05ac118c749d",
        "id": "rPf_YcXkcSfK",
        "colab_type": "text"
      },
      "source": [
        "<a id=\"audio_length\"></a>\n",
        "### Audio Length\n",
        "\n",
        "We shall now analyze the lengths of the audio files in our dataset"
      ]
    },
    {
      "cell_type": "code",
      "metadata": {
        "scrolled": false,
        "_cell_guid": "40b7ba05-45df-4779-be29-b177b9b9b8e1",
        "_uuid": "867f0074922314b78de6bd9d14b308b634d1fbbe",
        "trusted": false,
        "id": "sr6qEUwAcSfL",
        "colab_type": "code",
        "colab": {
          "base_uri": "https://localhost:8080/",
          "height": 402
        },
        "outputId": "9015894e-0926-45f7-af27-0c15cb81d4c0"
      },
      "source": [
        "train['nframes'] = train['fname'].apply(lambda f: wave.open('audio_train/' + f).getnframes())\n",
        "test['nframes'] = test['fname'].apply(lambda f: wave.open('audio_test/' + f).getnframes())\n",
        "\n",
        "_, ax = plt.subplots(figsize=(16, 4))\n",
        "sns.violinplot(ax=ax, x=\"label\", y=\"nframes\", data=train)\n",
        "plt.xticks(rotation=90)\n",
        "plt.title('Distribution of audio frames, per label', fontsize=16)\n",
        "plt.show()"
      ],
      "execution_count": 67,
      "outputs": [
        {
          "output_type": "display_data",
          "data": {
            "image/png": "[encoded data removed]",
            "text/plain": [
              "<Figure size 1152x288 with 1 Axes>"
            ]
          },
          "metadata": {
            "tags": []
          }
        }
      ]
    },
    {
      "cell_type": "markdown",
      "metadata": {
        "_cell_guid": "fa8fa2bd-359c-4f53-b94b-67a6c1acde64",
        "_uuid": "92ea60bb1827c9ec4dd261d015739dde762f9b18",
        "id": "f1M98rv1cSfP",
        "colab_type": "text"
      },
      "source": [
        "We observe:\n",
        "1. The distribution of audio length across labels is non-uniform and has high variance.\n",
        "\n",
        "Let's now analyze the frame length distribution in Train and Test."
      ]
    },
    {
      "cell_type": "code",
      "metadata": {
        "_cell_guid": "e49045f1-7c44-4f1a-b740-d45ec3b6b321",
        "_uuid": "0ec5676601b04e3fdbae4052122c9db1a68251a9",
        "trusted": false,
        "id": "QEz98M3PcSfQ",
        "colab_type": "code",
        "colab": {
          "base_uri": "https://localhost:8080/",
          "height": 356
        },
        "outputId": "293f6757-0eee-4965-a27e-5cd7d2d47989"
      },
      "source": [
        "fig, axes = plt.subplots(nrows=1, ncols=2, figsize=(16,5))\n",
        "train.nframes.hist(bins=100, ax=axes[0])\n",
        "test.nframes.hist(bins=100, ax=axes[1])\n",
        "plt.suptitle('Frame Length Distribution in Train and Test', ha='center', fontsize='large');"
      ],
      "execution_count": 68,
      "outputs": [
        {
          "output_type": "display_data",
          "data": {
            "image/png": "[encoded data removed]",
            "text/plain": [
              "<Figure size 1152x360 with 2 Axes>"
            ]
          },
          "metadata": {
            "tags": []
          }
        }
      ]
    },
    {
      "cell_type": "markdown",
      "metadata": {
        "_cell_guid": "72c8dc2d-8385-4f74-8820-8d805fee8dc0",
        "_uuid": "3e517330a7209f25fa69056db1214f27fb585824",
        "id": "kk7-hVbzcSfS",
        "colab_type": "text"
      },
      "source": [
        "We observe:\n",
        "1. Majority of the audio files are short.\n",
        "1. There are four `abnormal` length in the test histogram. Let's analyze them."
      ]
    },
    {
      "cell_type": "code",
      "metadata": {
        "scrolled": true,
        "_cell_guid": "f36e006f-fb47-4134-94a8-aede32f770ad",
        "_uuid": "8495f1f7fdaffa09623458aa66803c6a2e156537",
        "trusted": false,
        "id": "KPcAP5AvcSfT",
        "colab_type": "code",
        "colab": {}
      },
      "source": [
        "abnormal_length = [707364, 353682, 138474, 184338]\n",
        "\n",
        "for length in abnormal_length:\n",
        "    abnormal_fnames = test.loc[test.nframes == length, 'fname'].values\n",
        "    print(\"Frame length = \", length, \" Number of files = \", abnormal_fnames.shape[0], end=\"   \")\n",
        "    fname = np.random.choice(abnormal_fnames)\n",
        "    print(\"Playing \", fname)\n",
        "    IPython.display.display(ipd.Audio( '../input/freesound-audio-tagging/audio_test/' + fname))"
      ],
      "execution_count": 0,
      "outputs": []
    },
    {
      "cell_type": "markdown",
      "metadata": {
        "_cell_guid": "146baca0-66cc-4ce1-8d16-16ae5764a354",
        "_uuid": "64462b38a986a2f40deeb6a053b9d99d8f6993b5",
        "id": "K66nK9OmcSfW",
        "colab_type": "text"
      },
      "source": [
        "<a id=\"1d_model_building\"></a>\n",
        "## <center>2. Building a Model using Raw Wave</center>\n",
        "We will build two models:\n",
        "1. The first model will take the raw audio (1D array) as input and the primary operation will be Conv1D\n",
        "2. The second model will take the MFCCs as input. (We will explain MFCC later)\n",
        "\n",
        "<a id=\"1d_discription\"></a>\n",
        "### Keras Model using raw wave\n",
        "\n",
        "Our model has the architecture as follows:\n",
        "![raw](https://raw.githubusercontent.com/zaffnet/images/master/images/raw_model.jpg)\n",
        "\n",
        "**Important:**\n",
        "Due to the time limit on Kaggle Kernels, it is not possible to perform 10-fold training of a large model. I have trained the model locally and uploaded its output files as a dataset. If you wish to train the bigger model, change `COMPLETE_RUN = True` at the beginning of the kernel."
      ]
    },
    {
      "cell_type": "markdown",
      "metadata": {
        "_cell_guid": "0ef1062c-be8a-4021-a50a-3df9bacd30fc",
        "_uuid": "2df0e6e509896eaefd30f6b4c15b55736760aafa",
        "collapsed": true,
        "id": "gLB1O5y8cSfY",
        "colab_type": "text"
      },
      "source": [
        "#### Some sssential imports"
      ]
    },
    {
      "cell_type": "code",
      "metadata": {
        "collapsed": true,
        "_cell_guid": "58fbb75c-1ef8-478f-a5fd-3fe6cfda32af",
        "_uuid": "36454f818dcbe02852e7a639d428a004a387ce9f",
        "_kg_hide-output": true,
        "trusted": false,
        "id": "y8jHxGBkcSfc",
        "colab_type": "code",
        "colab": {}
      },
      "source": [
        "import librosa\n",
        "import numpy as np\n",
        "import scipy\n",
        "from keras import losses, models, optimizers\n",
        "from keras.activations import relu, softmax\n",
        "from keras.callbacks import (EarlyStopping, LearningRateScheduler,\n",
        "                             ModelCheckpoint, TensorBoard, ReduceLROnPlateau)\n",
        "from keras.layers import (Convolution1D, Dense, Dropout, GlobalAveragePooling1D, \n",
        "                          GlobalMaxPool1D, Input, MaxPool1D, concatenate)\n",
        "from keras.utils import Sequence, to_categorical"
      ],
      "execution_count": 0,
      "outputs": []
    },
    {
      "cell_type": "markdown",
      "metadata": {
        "_cell_guid": "64df4fea-4917-4762-b9be-68163f590c13",
        "_uuid": "927b4d615e24291f3c9510b653e723dc031fd042",
        "id": "Cgjmv2dNcSfm",
        "colab_type": "text"
      },
      "source": [
        "<a id=\"configuration\"></a>\n",
        "#### Configuration"
      ]
    },
    {
      "cell_type": "markdown",
      "metadata": {
        "_cell_guid": "1dda9e10-5b51-430a-b20d-a319695df25d",
        "_uuid": "a9dc3968c8915e1d96f0bc011e67db26932ab0a3",
        "id": "K8QwoEKScSfn",
        "colab_type": "text"
      },
      "source": [
        "The Configuration object stores those learning parameters that are shared between data generators, models, and training functions. Anything that is `global` as far as the training is concerned can become the part of Configuration object."
      ]
    },
    {
      "cell_type": "code",
      "metadata": {
        "_cell_guid": "e0836104-1a4d-485d-9cc1-3e5b82f449de",
        "_uuid": "66640745984135b853d36eac127fb2da302319ad",
        "collapsed": true,
        "trusted": false,
        "id": "7RZfpA-ZcSfo",
        "colab_type": "code",
        "colab": {}
      },
      "source": [
        "class Config(object):\n",
        "    def __init__(self,\n",
        "                 sampling_rate=16000, audio_duration=2, n_classes=41,\n",
        "                 use_mfcc=False, n_folds=10, learning_rate=0.0001, \n",
        "                 max_epochs=50, n_mfcc=20):\n",
        "        self.sampling_rate = sampling_rate\n",
        "        self.audio_duration = audio_duration\n",
        "        self.n_classes = n_classes\n",
        "        self.use_mfcc = use_mfcc\n",
        "        self.n_mfcc = n_mfcc\n",
        "        self.n_folds = n_folds\n",
        "        self.learning_rate = learning_rate\n",
        "        self.max_epochs = max_epochs\n",
        "\n",
        "        self.audio_length = self.sampling_rate * self.audio_duration\n",
        "        if self.use_mfcc:\n",
        "            self.dim = (self.n_mfcc, 1 + int(np.floor(self.audio_length/512)), 1)\n",
        "        else:\n",
        "            self.dim = (self.audio_length, 1)"
      ],
      "execution_count": 0,
      "outputs": []
    },
    {
      "cell_type": "markdown",
      "metadata": {
        "_cell_guid": "dbdcf3fb-f915-482c-ad8f-d8578de8f080",
        "_uuid": "b1a794352ac7505abcf212d1b1c6deef32178ab3",
        "collapsed": true,
        "id": "eTrdvbFmcSfs",
        "colab_type": "text"
      },
      "source": [
        "<a id=\"data_generator\"></a>\n",
        "#### DataGenerator Class"
      ]
    },
    {
      "cell_type": "markdown",
      "metadata": {
        "_cell_guid": "059d4658-f1a4-4d6a-ae67-05140fc9bac6",
        "_uuid": "f1a0716a545ade83970005951719e71cebe35ab2",
        "id": "lfMXd1KHcSft",
        "colab_type": "text"
      },
      "source": [
        "The DataGenerator class inherits from **`keras.utils.Sequence`** . It is useful for preprocessing and feeding the data to a Keras model. \n",
        "* Once initialized with a batch_size, it computes the number of batches in an epoch. The **`__len__`** method tells Keras how many batches to draw in each epoch. \n",
        "* The **`__getitem__`** method takes an index (which is the batch number) and returns a batch of the data (both X and y) after calculating the offset. During test time, only `X` is returned.\n",
        "* If we want to perform some action after each epoch (like shuffle the data, or increase the proportion of augmented data), we can use the **`on_epoch_end`** method.\n",
        "\n",
        "Note:\n",
        "**`Sequence`** are a safer way to do multiprocessing. This structure guarantees that the network will only train once on each sample per epoch which is not the case with generators."
      ]
    },
    {
      "cell_type": "code",
      "metadata": {
        "_cell_guid": "f9d14e7d-89d8-42f0-9eb3-f895645b2de2",
        "_uuid": "aca30bc0f6fccf71e4b9a68e5c04c1aaf950b169",
        "collapsed": true,
        "trusted": false,
        "id": "DG5BzWcycSft",
        "colab_type": "code",
        "colab": {}
      },
      "source": [
        "class DataGenerator(Sequence):\n",
        "    def __init__(self, config, data_dir, list_IDs, labels=None, \n",
        "                 batch_size=64, preprocessing_fn=lambda x: x):\n",
        "        self.config = config\n",
        "        self.data_dir = data_dir\n",
        "        self.list_IDs = list_IDs\n",
        "        self.labels = labels\n",
        "        self.batch_size = batch_size\n",
        "        self.preprocessing_fn = preprocessing_fn\n",
        "        self.on_epoch_end()\n",
        "        self.dim = self.config.dim\n",
        "\n",
        "    def __len__(self):\n",
        "        return int(np.ceil(len(self.list_IDs) / self.batch_size))\n",
        "\n",
        "    def __getitem__(self, index):\n",
        "        indexes = self.indexes[index*self.batch_size:(index+1)*self.batch_size]\n",
        "        list_IDs_temp = [self.list_IDs[k] for k in indexes]\n",
        "        return self.__data_generation(list_IDs_temp)\n",
        "\n",
        "    def on_epoch_end(self):\n",
        "        self.indexes = np.arange(len(self.list_IDs))\n",
        "\n",
        "    def __data_generation(self, list_IDs_temp):\n",
        "        cur_batch_size = len(list_IDs_temp)\n",
        "        X = np.empty((cur_batch_size, *self.dim))\n",
        "\n",
        "        input_length = self.config.audio_length\n",
        "        for i, ID in enumerate(list_IDs_temp):\n",
        "            file_path = self.data_dir + ID\n",
        "            \n",
        "            # Read and Resample the audio\n",
        "            data, _ = librosa.core.load(file_path, sr=self.config.sampling_rate,\n",
        "                                        res_type='kaiser_fast')\n",
        "\n",
        "            # Random offset / Padding\n",
        "            if len(data) > input_length:\n",
        "                max_offset = len(data) - input_length\n",
        "                offset = np.random.randint(max_offset)\n",
        "                data = data[offset:(input_length+offset)]\n",
        "            else:\n",
        "                if input_length > len(data):\n",
        "                    max_offset = input_length - len(data)\n",
        "                    offset = np.random.randint(max_offset)\n",
        "                else:\n",
        "                    offset = 0\n",
        "                data = np.pad(data, (offset, input_length - len(data) - offset), \"constant\")\n",
        "                \n",
        "            # Normalization + Other Preprocessing\n",
        "            if self.config.use_mfcc:\n",
        "                data = librosa.feature.mfcc(data, sr=self.config.sampling_rate,\n",
        "                                                   n_mfcc=self.config.n_mfcc)\n",
        "                data = np.expand_dims(data, axis=-1)\n",
        "            else:\n",
        "                data = self.preprocessing_fn(data)[:, np.newaxis]\n",
        "            X[i,] = data\n",
        "\n",
        "        if self.labels is not None:\n",
        "            y = np.empty(cur_batch_size, dtype=int)\n",
        "            for i, ID in enumerate(list_IDs_temp):\n",
        "                y[i] = self.labels[ID]\n",
        "            return X, to_categorical(y, num_classes=self.config.n_classes)\n",
        "        else:\n",
        "            return X"
      ],
      "execution_count": 0,
      "outputs": []
    },
    {
      "cell_type": "markdown",
      "metadata": {
        "_cell_guid": "49a23330-291d-4eb7-aeb9-4abcfd648277",
        "_uuid": "6b69d10980c7aad004c6a7fa860c649d0b875a0f",
        "id": "OqiIcu7hcSfw",
        "colab_type": "text"
      },
      "source": [
        "<a id=\"1d_normalization\"></a>\n",
        "#### Normalization\n",
        "\n",
        "Normalization is a crucial preprocessing step. The simplest method is rescaling the range of features to scale the range in [0, 1]. "
      ]
    },
    {
      "cell_type": "code",
      "metadata": {
        "_cell_guid": "bb5936dd-5fb1-4894-8165-6daf372a6832",
        "_uuid": "c9db10ad526815730a6e5a1f057de8c9bff12615",
        "collapsed": true,
        "trusted": false,
        "id": "GR0qhH9TcSfw",
        "colab_type": "code",
        "colab": {}
      },
      "source": [
        "def audio_norm(data):\n",
        "    max_data = np.max(data)\n",
        "    min_data = np.min(data)\n",
        "    data = (data-min_data)/(max_data-min_data+1e-6)\n",
        "    return data-0.5"
      ],
      "execution_count": 0,
      "outputs": []
    },
    {
      "cell_type": "markdown",
      "metadata": {
        "_cell_guid": "3b9656b0-31d3-47ea-9bb3-789a40026793",
        "_uuid": "c2f0bbd810926b309d3b02473e937a2a86bc9005",
        "id": "O_6eJASgcSfy",
        "colab_type": "text"
      },
      "source": [
        "* The dummy model is just for debugging purpose.\n",
        "* Our 1D Conv model is fairly deep and is trained using Adam Optimizer with a learning rate of 0.0001"
      ]
    },
    {
      "cell_type": "code",
      "metadata": {
        "_cell_guid": "245887b3-a0dc-498d-900c-dd1c2898d955",
        "_uuid": "40771630994b93eee040c239f1c0e3bf88f13ced",
        "collapsed": true,
        "trusted": false,
        "id": "PE-3QgxacSfz",
        "colab_type": "code",
        "colab": {}
      },
      "source": [
        "def get_1d_dummy_model(config):\n",
        "    \n",
        "    nclass = config.n_classes\n",
        "    input_length = config.audio_length\n",
        "    \n",
        "    inp = Input(shape=(input_length,1))\n",
        "    x = GlobalMaxPool1D()(inp)\n",
        "    out = Dense(nclass, activation=softmax)(x)\n",
        "\n",
        "    model = models.Model(inputs=inp, outputs=out)\n",
        "    opt = optimizers.Adam(config.learning_rate)\n",
        "\n",
        "    model.compile(optimizer=opt, loss=losses.categorical_crossentropy, metrics=['acc'])\n",
        "    return model\n",
        "\n",
        "def get_1d_conv_model(config):\n",
        "    \n",
        "    nclass = config.n_classes\n",
        "    input_length = config.audio_length\n",
        "    \n",
        "    inp = Input(shape=(input_length,1))\n",
        "    x = Convolution1D(16, 9, activation=relu, padding=\"valid\")(inp)\n",
        "    x = Convolution1D(16, 9, activation=relu, padding=\"valid\")(x)\n",
        "    x = MaxPool1D(16)(x)\n",
        "    x = Dropout(rate=0.1)(x)\n",
        "    \n",
        "    x = Convolution1D(32, 3, activation=relu, padding=\"valid\")(x)\n",
        "    x = Convolution1D(32, 3, activation=relu, padding=\"valid\")(x)\n",
        "    x = MaxPool1D(4)(x)\n",
        "    x = Dropout(rate=0.1)(x)\n",
        "    \n",
        "    x = Convolution1D(32, 3, activation=relu, padding=\"valid\")(x)\n",
        "    x = Convolution1D(32, 3, activation=relu, padding=\"valid\")(x)\n",
        "    x = MaxPool1D(4)(x)\n",
        "    x = Dropout(rate=0.1)(x)\n",
        "    \n",
        "    x = Convolution1D(256, 3, activation=relu, padding=\"valid\")(x)\n",
        "    x = Convolution1D(256, 3, activation=relu, padding=\"valid\")(x)\n",
        "    x = GlobalMaxPool1D()(x)\n",
        "    x = Dropout(rate=0.2)(x)\n",
        "\n",
        "    x = Dense(64, activation=relu)(x)\n",
        "    x = Dense(1028, activation=relu)(x)\n",
        "    out = Dense(nclass, activation=softmax)(x)\n",
        "\n",
        "    model = models.Model(inputs=inp, outputs=out)\n",
        "    opt = optimizers.Adam(config.learning_rate)\n",
        "\n",
        "    model.compile(optimizer=opt, loss=losses.categorical_crossentropy, metrics=['acc'])\n",
        "    return model"
      ],
      "execution_count": 0,
      "outputs": []
    },
    {
      "cell_type": "markdown",
      "metadata": {
        "_cell_guid": "2e67aa4a-f2d0-4889-a1da-b6d3217edb5e",
        "_uuid": "32afe89ebdee366de311a6fffb5c49a0e568aaa8",
        "id": "kWHEkFVFcSf2",
        "colab_type": "text"
      },
      "source": [
        "<a id=\"1d_training\"></a>\n",
        "#### Training 1D Conv"
      ]
    },
    {
      "cell_type": "markdown",
      "metadata": {
        "_cell_guid": "a93de421-33be-4104-bcfa-b581cbde3d75",
        "_uuid": "ddbcf58975c5cd7436314a77e5b8f938640bcf34",
        "id": "a8oxVdpJcSf3",
        "colab_type": "text"
      },
      "source": [
        "It is important to convert raw labels to integer indices"
      ]
    },
    {
      "cell_type": "code",
      "metadata": {
        "_cell_guid": "e9027035-0e77-47dd-8616-113c1cfb37e0",
        "_uuid": "53aca10261dea0b8357e39adb513c7689b7c07ff",
        "collapsed": true,
        "trusted": false,
        "id": "j_zsRbuWcSf4",
        "colab_type": "code",
        "colab": {}
      },
      "source": [
        "LABELS = list(train.label.unique())\n",
        "label_idx = {label: i for i, label in enumerate(LABELS)}\n",
        "train.set_index(\"fname\", inplace=True)\n",
        "test.set_index(\"fname\", inplace=True)\n",
        "train[\"label_idx\"] = train.label.apply(lambda x: label_idx[x])\n",
        "if not COMPLETE_RUN:\n",
        "    train = train[:2000]\n",
        "    test = test[:2000]"
      ],
      "execution_count": 0,
      "outputs": []
    },
    {
      "cell_type": "code",
      "metadata": {
        "_cell_guid": "f2f2dc50-77d3-43ba-bf7f-3c6b39beb67b",
        "_uuid": "604a3c7971599898b5614a67da12da84ab651a55",
        "collapsed": true,
        "trusted": false,
        "id": "8alo7QVEcSf8",
        "colab_type": "code",
        "colab": {}
      },
      "source": [
        "config = Config(sampling_rate=16000, audio_duration=2, n_folds=10, learning_rate=0.001)\n",
        "if not COMPLETE_RUN:\n",
        "    config = Config(sampling_rate=100, audio_duration=1, n_folds=2, max_epochs=1)"
      ],
      "execution_count": 0,
      "outputs": []
    },
    {
      "cell_type": "markdown",
      "metadata": {
        "_cell_guid": "e31b98ec-cecb-4584-9bbc-bc2748476b49",
        "_uuid": "7a2a5e44d82a2b9e04117b76464225278ec4a1d8",
        "id": "qNujIClncSgA",
        "colab_type": "text"
      },
      "source": [
        "Here is the code for 10-fold training:\n",
        "* We use **`from sklearn.cross_validation.StratifiedKFold`** for splitting the trainig data into 10 folds.\n",
        "* We use some Keras callbacks to monitor the training.\n",
        "    * **`ModelCheckpoint`** saves the best weight of our model (using validation data). We use this weight to make test predictions.\n",
        "    * **`EarlyStopping`** stops the training once validation loss ceases to decrease\n",
        "    * **`TensorBoard`** helps us visualize training and validation loss and accuracy.\n",
        "* We fit the model using **`DataGenerator`** for training and validation splits. \n",
        "* We get both training and test predictions and save them as .npy format. We also generate a submission file. For 10-fold CV, the number of prediction files should be 10. We will ensemble these predictions later."
      ]
    },
    {
      "cell_type": "markdown",
      "metadata": {
        "collapsed": true,
        "_cell_guid": "e81537d9-d886-4bd5-a923-7efe1aa1812d",
        "_uuid": "1e68d5ae8e431445151c8c7744fadb65fbf692c8",
        "_kg_hide-output": true,
        "id": "tcCGMv9lcSgB",
        "colab_type": "text"
      },
      "source": [
        "```python\n",
        "PREDICTION_FOLDER = \"predictions_1d_conv\"\n",
        "if not os.path.exists(PREDICTION_FOLDER):\n",
        "    os.mkdir(PREDICTION_FOLDER)\n",
        "if os.path.exists('logs/' + PREDICTION_FOLDER):\n",
        "    shutil.rmtree('logs/' + PREDICTION_FOLDER)\n",
        "\n",
        "skf = StratifiedKFold(train.label_idx, n_folds=config.n_folds)\n",
        "\n",
        "for i, (train_split, val_split) in enumerate(skf):\n",
        "    train_set = train.iloc[train_split]\n",
        "    val_set = train.iloc[val_split]\n",
        "    checkpoint = ModelCheckpoint('best_%d.h5'%i, monitor='val_loss', verbose=1, save_best_only=True)\n",
        "    early = EarlyStopping(monitor=\"val_loss\", mode=\"min\", patience=5)\n",
        "    tb = TensorBoard(log_dir='./logs/' + PREDICTION_FOLDER + '/fold_%d'%i, write_graph=True)\n",
        "\n",
        "    callbacks_list = [checkpoint, early, tb]\n",
        "    print(\"Fold: \", i)\n",
        "    print(\"#\"*50)\n",
        "    if COMPLETE_RUN:\n",
        "        model = get_1d_conv_model(config)\n",
        "    else:\n",
        "        model = get_1d_dummy_model(config)\n",
        "\n",
        "    train_generator = DataGenerator(config, '../input/freesound-audio-tagging/audio_train/', train_set.index, \n",
        "                                    train_set.label_idx, batch_size=64,\n",
        "                                    preprocessing_fn=audio_norm)\n",
        "    val_generator = DataGenerator(config, '../input/freesound-audio-tagging/audio_train/', val_set.index, \n",
        "                                  val_set.label_idx, batch_size=64,\n",
        "                                  preprocessing_fn=audio_norm)\n",
        "    \n",
        "    history = model.fit_generator(train_generator, callbacks=callbacks_list, validation_data=val_generator,\n",
        "                                  epochs=config.max_epochs, use_multiprocessing=True, workers=6, max_queue_size=20)\n",
        "    \n",
        "    model.load_weights('best_%d.h5'%i)\n",
        "    \n",
        "    # Save train predictions\n",
        "    train_generator = DataGenerator(config, '../input/freesound-audio-tagging/audio_train/', train.index, batch_size=128,\n",
        "                                    preprocessing_fn=audio_norm)\n",
        "    predictions = model.predict_generator(train_generator, use_multiprocessing=True, \n",
        "                                          workers=6, max_queue_size=20, verbose=1)\n",
        "    np.save(PREDICTION_FOLDER + \"/train_predictions_%d.npy\"%i, predictions)\n",
        "    \n",
        "    # Save test predictions\n",
        "    test_generator = DataGenerator(config, '../input/freesound-audio-tagging/audio_test/', test.index, batch_size=128,\n",
        "                                    preprocessing_fn=audio_norm)\n",
        "    predictions = model.predict_generator(test_generator, use_multiprocessing=True, \n",
        "                                          workers=6, max_queue_size=20, verbose=1)\n",
        "    np.save(PREDICTION_FOLDER + \"/test_predictions_%d.npy\"%i, predictions)\n",
        "    \n",
        "    # Make a submission file\n",
        "    top_3 = np.array(LABELS)[np.argsort(-predictions, axis=1)[:, :3]]\n",
        "    predicted_labels = [' '.join(list(x)) for x in top_3]\n",
        "    test['label'] = predicted_labels\n",
        "    test[['label']].to_csv(PREDICTION_FOLDER + \"/predictions_%d.csv\"%i)\n",
        "    ```"
      ]
    },
    {
      "cell_type": "markdown",
      "metadata": {
        "_cell_guid": "488df4a9-b090-4397-a649-2e94f9ee82ad",
        "_uuid": "2afcdcf0f77f8685f57e2d119ec0cc650b7255d7",
        "id": "HOwReRu8cSgC",
        "colab_type": "text"
      },
      "source": [
        "<a id=\"1d_ensembling\"></a>\n",
        "#### Ensembling 1D Conv Predictions\n",
        "Now that we have trained our model, it is time average the predictions of 10-folds. We will try Geometric Mean averaging and see what will be our Public LB score."
      ]
    },
    {
      "cell_type": "code",
      "metadata": {
        "collapsed": true,
        "_cell_guid": "4050aede-678b-4f9e-bb95-e70f79e4f6bd",
        "_uuid": "bfdddecb92be07d06e71d25b1812d064a0cee66d",
        "_kg_hide-output": true,
        "trusted": false,
        "id": "AZ8VNnObcSgC",
        "colab_type": "code",
        "colab": {}
      },
      "source": [
        "pred_list = []\n",
        "for i in range(10):\n",
        "    pred_list.append(np.load(\"../input/freesound-prediction-file/test_predictions_%d.npy\"%i))\n",
        "prediction = np.ones_like(pred_list[0])\n",
        "for pred in pred_list:\n",
        "    prediction = prediction*pred\n",
        "prediction = prediction**(1./len(pred_list))\n",
        "# Make a submission file\n",
        "top_3 = np.array(LABELS)[np.argsort(-prediction, axis=1)[:, :3]]\n",
        "predicted_labels = [' '.join(list(x)) for x in top_3]\n",
        "test = pd.read_csv('../input/freesound-audio-tagging/sample_submission.csv')\n",
        "test['label'] = predicted_labels\n",
        "test[['fname', 'label']].to_csv(\"1d_conv_ensembled_submission.csv\", index=False)"
      ],
      "execution_count": 0,
      "outputs": []
    },
    {
      "cell_type": "markdown",
      "metadata": {
        "_cell_guid": "8c437de1-ecc0-4c72-9595-c689c101a72c",
        "_uuid": "40ef0374888d1453eed07c8daa18f231c12ef36d",
        "id": "E3qA-7GtcSgG",
        "colab_type": "text"
      },
      "source": [
        "<a id=\"intro_mfcc\"></a>\n",
        "## <center> 3. Introuction to MFCC\n",
        "\n",
        "As we have seen in the previous section, our Deep Learning models are powerful enough to classify sounds from the raw audio. We do not require any complex feature engineering. But before the Deep Learning era, people developed techniques to extract features from audio signals. It turns out that these techniques are still useful. One such technique is computing the MFCC (Mel Frquency Cepstral Coefficients) from the raw audio. Before we jump to MFCC, let's talk about extracting features from the sound.\n",
        "\n",
        "If we just want to classify some sound, we should build features that are **speaker independent**. Any feature that only gives information about the speaker (like the pitch of their voice) will not be helpful for classification. In other words, we should extract features that depend on the \"content\" of the audio rather than the nature of the speaker. Also, a good feature extraction technique should mimic the human speech perception. We don't hear loudness on a linear scale. If we want to double the perceived loudness of a sound, we have to put 8 times as much energy into it. Instead of a linear scale, our perception system uses a log scale. \n",
        "\n",
        "Taking these things into account, Davis and Mermelstein came up with MFCC in the 1980's. MFCC mimics the logarithmic perception of loudness and pitch of human auditory system and tries to eliminate speaker dependent characteristics by excluding the fundamental frequency and their harmonics. The underlying mathematics is quite complicated and we will skip that. For those interested, here is the [detailed explanation](http://practicalcryptography.com/miscellaneous/machine-learning/guide-mel-frequency-cepstral-coefficients-mfccs/).\n",
        "\n",
        "![http://recognize-speech.com/images/FeatureExtraction/MFCC/MFCC_Flowchart.png](http://recognize-speech.com/images/FeatureExtraction/MFCC/MFCC_Flowchart.png)\n",
        "\n",
        "<a id=\"librosa_mfcc\"></a>\n",
        "#### Generating MFCC using Librosa\n",
        "The library librosa has a function to calculate MFCC. Let's compute the MFCC of an audio file and visualize it."
      ]
    },
    {
      "cell_type": "code",
      "metadata": {
        "_cell_guid": "dcb2a6e7-b086-4d1a-94a4-215f2cb101d0",
        "_uuid": "2f8dfd08f109ababeaca9ce900b68b8a716d28b7",
        "trusted": false,
        "id": "7-wZuMPZcSgG",
        "colab_type": "code",
        "colab": {}
      },
      "source": [
        "import librosa\n",
        "SAMPLE_RATE = 44100\n",
        "fname = '../input/freesound-audio-tagging/audio_train/' + '00044347.wav'   # Hi-hat\n",
        "wav, _ = librosa.core.load(fname, sr=SAMPLE_RATE)\n",
        "wav = wav[:2*44100]"
      ],
      "execution_count": 0,
      "outputs": []
    },
    {
      "cell_type": "code",
      "metadata": {
        "_cell_guid": "6250242e-e3c5-4cb9-8405-43d3279dada1",
        "_uuid": "7498089442d866816aabc85234a8a5546c5e58da",
        "_kg_hide-output": true,
        "trusted": false,
        "id": "qPnKcm1GcSgJ",
        "colab_type": "code",
        "colab": {}
      },
      "source": [
        "mfcc = librosa.feature.mfcc(wav, sr = SAMPLE_RATE, n_mfcc=40)\n",
        "mfcc.shape"
      ],
      "execution_count": 0,
      "outputs": []
    },
    {
      "cell_type": "code",
      "metadata": {
        "_cell_guid": "d02be92a-f208-42c2-ac4a-e0b2b22ba195",
        "_uuid": "f4054a6856eaa16cf82cacb5bd08ea53cdab386b",
        "trusted": false,
        "id": "YWgOhns3cSgM",
        "colab_type": "code",
        "colab": {}
      },
      "source": [
        "plt.imshow(mfcc, cmap='hot', interpolation='nearest');"
      ],
      "execution_count": 0,
      "outputs": []
    },
    {
      "cell_type": "markdown",
      "metadata": {
        "_cell_guid": "5015b22f-5de8-4a86-aef4-074bf90023aa",
        "_uuid": "59502f44b22674250a047e89b610867d6c6306c3",
        "id": "jLf9ex8qcSgO",
        "colab_type": "text"
      },
      "source": [
        "<a id=\"2d_model_building\"></a>\n",
        "## <center>4. Building a Model using MFCC\n",
        "\n",
        "We will build now build a 2D Convolutional model using MFCC. "
      ]
    },
    {
      "cell_type": "code",
      "metadata": {
        "_cell_guid": "384fe65d-fe10-4eee-826c-75c4dffcfa2d",
        "_uuid": "ed54039a4e0b91d10f603799feb8166404bbceec",
        "_kg_hide-output": true,
        "trusted": false,
        "id": "mVzQZvRrcSgP",
        "colab_type": "code",
        "colab": {}
      },
      "source": [
        "from keras.layers import (Convolution2D, GlobalAveragePooling2D, BatchNormalization, Flatten,\n",
        "                          GlobalMaxPool2D, MaxPool2D, concatenate, Activation)\n",
        "from keras.utils import Sequence, to_categorical\n",
        "from keras import backend as K"
      ],
      "execution_count": 0,
      "outputs": []
    },
    {
      "cell_type": "code",
      "metadata": {
        "_cell_guid": "97d07753-d78d-465d-936d-7f03eaf1def1",
        "_uuid": "0b2ac601f52ae4ed9dc849fcd095ab94cfe878fe",
        "trusted": false,
        "id": "UDm2H2x3cSgS",
        "colab_type": "code",
        "colab": {}
      },
      "source": [
        "def get_2d_dummy_model(config):\n",
        "    \n",
        "    nclass = config.n_classes\n",
        "    \n",
        "    inp = Input(shape=(config.dim[0],config.dim[1],1))\n",
        "    x = GlobalMaxPool2D()(inp)\n",
        "    out = Dense(nclass, activation=softmax)(x)\n",
        "\n",
        "    model = models.Model(inputs=inp, outputs=out)\n",
        "    opt = optimizers.Adam(config.learning_rate)\n",
        "\n",
        "    model.compile(optimizer=opt, loss=losses.categorical_crossentropy, metrics=['acc'])\n",
        "    return model\n",
        "\n",
        "\n",
        "def get_2d_conv_model(config):\n",
        "    \n",
        "    nclass = config.n_classes\n",
        "    \n",
        "    inp = Input(shape=(config.dim[0],config.dim[1],1))\n",
        "    x = Convolution2D(32, (4,10), padding=\"same\")(inp)\n",
        "    x = BatchNormalization()(x)\n",
        "    x = Activation(\"relu\")(x)\n",
        "    x = MaxPool2D()(x)\n",
        "    \n",
        "    x = Convolution2D(32, (4,10), padding=\"same\")(x)\n",
        "    x = BatchNormalization()(x)\n",
        "    x = Activation(\"relu\")(x)\n",
        "    x = MaxPool2D()(x)\n",
        "    \n",
        "    x = Convolution2D(32, (4,10), padding=\"same\")(x)\n",
        "    x = BatchNormalization()(x)\n",
        "    x = Activation(\"relu\")(x)\n",
        "    x = MaxPool2D()(x)\n",
        "    \n",
        "    x = Convolution2D(32, (4,10), padding=\"same\")(x)\n",
        "    x = BatchNormalization()(x)\n",
        "    x = Activation(\"relu\")(x)\n",
        "    x = MaxPool2D()(x)\n",
        "\n",
        "    x = Flatten()(x)\n",
        "    x = Dense(64)(x)\n",
        "    x = BatchNormalization()(x)\n",
        "    x = Activation(\"relu\")(x)\n",
        "    out = Dense(nclass, activation=softmax)(x)\n",
        "\n",
        "    model = models.Model(inputs=inp, outputs=out)\n",
        "    opt = optimizers.Adam(config.learning_rate)\n",
        "\n",
        "    model.compile(optimizer=opt, loss=losses.categorical_crossentropy, metrics=['acc'])\n",
        "    return model"
      ],
      "execution_count": 0,
      "outputs": []
    },
    {
      "cell_type": "markdown",
      "metadata": {
        "_cell_guid": "c0c823de-9971-4247-9501-dc74d2f95d8e",
        "_uuid": "d88e90fdc36c77c10ecc8f674d6fd39c8e4d78fb",
        "id": "qyeiJLSjcSgV",
        "colab_type": "text"
      },
      "source": [
        "<a id=\"2d_data\"></a>\n",
        "### Preparing data"
      ]
    },
    {
      "cell_type": "code",
      "metadata": {
        "_cell_guid": "eb5aef7d-669b-4cde-9e09-a2bfaa379cc9",
        "_uuid": "70b8cd145ae3838c7974fe257403c8c7fbc8552a",
        "trusted": false,
        "id": "tysRShIGcSgV",
        "colab_type": "code",
        "colab": {}
      },
      "source": [
        "config = Config(sampling_rate=44100, audio_duration=2, n_folds=10, \n",
        "                learning_rate=0.001, use_mfcc=True, n_mfcc=40)\n",
        "if not COMPLETE_RUN:\n",
        "    config = Config(sampling_rate=44100, audio_duration=2, n_folds=2, \n",
        "                    max_epochs=1, use_mfcc=True, n_mfcc=40)"
      ],
      "execution_count": 0,
      "outputs": []
    },
    {
      "cell_type": "code",
      "metadata": {
        "_cell_guid": "5b9b1c9b-7e02-46f3-96f6-67ebc9bf9132",
        "_uuid": "5242e943f1bc1154d19c03c361a826553c811cfe",
        "trusted": false,
        "id": "oZVDf50ZcSgZ",
        "colab_type": "code",
        "colab": {}
      },
      "source": [
        "def prepare_data(df, config, data_dir):\n",
        "    X = np.empty(shape=(df.shape[0], config.dim[0], config.dim[1], 1))\n",
        "    input_length = config.audio_length\n",
        "    for i, fname in enumerate(df.index):\n",
        "        print(fname)\n",
        "        file_path = data_dir + fname\n",
        "        data, _ = librosa.core.load(file_path, sr=config.sampling_rate, res_type=\"kaiser_fast\")\n",
        "\n",
        "        # Random offset / Padding\n",
        "        if len(data) > input_length:\n",
        "            max_offset = len(data) - input_length\n",
        "            offset = np.random.randint(max_offset)\n",
        "            data = data[offset:(input_length+offset)]\n",
        "        else:\n",
        "            if input_length > len(data):\n",
        "                max_offset = input_length - len(data)\n",
        "                offset = np.random.randint(max_offset)\n",
        "            else:\n",
        "                offset = 0\n",
        "            data = np.pad(data, (offset, input_length - len(data) - offset), \"constant\")\n",
        "\n",
        "        data = librosa.feature.mfcc(data, sr=config.sampling_rate, n_mfcc=config.n_mfcc)\n",
        "        data = np.expand_dims(data, axis=-1)\n",
        "        X[i,] = data\n",
        "    return X"
      ],
      "execution_count": 0,
      "outputs": []
    },
    {
      "cell_type": "markdown",
      "metadata": {
        "_cell_guid": "c9910de1-388b-470e-8908-6df548f1b866",
        "_uuid": "bb3bc487b52a549a856807dd838a4f6cd209917d",
        "id": "yWf6ok8icSge",
        "colab_type": "text"
      },
      "source": [
        "```python\n",
        "X_train = prepare_data(train, config, '../input/freesound-audio-tagging/audio_train/')\n",
        "X_test = prepare_data(test, config, '../input/freesound-audio-tagging/audio_test/')\n",
        "y_train = to_categorical(train.label_idx, num_classes=config.n_classes)\n",
        "```"
      ]
    },
    {
      "cell_type": "markdown",
      "metadata": {
        "_cell_guid": "a0e0b17b-d2f8-47f8-9b4d-fff3b2761dde",
        "_uuid": "89e8bd3dc6d1f432309e668685fb98d1ce866e95",
        "id": "L6_y61lUcSgf",
        "colab_type": "text"
      },
      "source": [
        "<a id=\"2d_normalization\"></a>\n",
        "#### Normalization\n"
      ]
    },
    {
      "cell_type": "markdown",
      "metadata": {
        "_cell_guid": "928b0993-7799-4b75-bef8-c1df3755632e",
        "_uuid": "60b6d9dfcb25eb9b3cef7e05675d67b104e24b31",
        "id": "WqgEK6dYcSgg",
        "colab_type": "text"
      },
      "source": [
        "```python\n",
        "mean = np.mean(X_train, axis=0)\n",
        "std = np.std(X_train, axis=0)\n",
        "\n",
        "X_train = (X_train - mean)/std\n",
        "X_test = (X_test - mean)/std\n",
        "```"
      ]
    },
    {
      "cell_type": "markdown",
      "metadata": {
        "_cell_guid": "af8afd09-66bf-4618-ad95-d70db35b90ec",
        "_uuid": "b70fea949114595111c39f9f64fb1752603e3fdf",
        "id": "tfpF3x91cSgg",
        "colab_type": "text"
      },
      "source": [
        "<a id=\"2d_training\"></a>\n",
        "#### Training 2D Conv on MFCC"
      ]
    },
    {
      "cell_type": "markdown",
      "metadata": {
        "_cell_guid": "10fb7477-8122-49fb-be81-1adb7aa45c7f",
        "_uuid": "ab0f2bc7e7bbaced3eb2e4c3acb7c7c63aa73681",
        "id": "ialwqRYRcSgi",
        "colab_type": "text"
      },
      "source": [
        "```python\n",
        "PREDICTION_FOLDER = \"predictions_2d_conv\"\n",
        "if not os.path.exists(PREDICTION_FOLDER):\n",
        "    os.mkdir(PREDICTION_FOLDER)\n",
        "if os.path.exists('logs/' + PREDICTION_FOLDER):\n",
        "    shutil.rmtree('logs/' + PREDICTION_FOLDER)\n",
        "\n",
        "skf = StratifiedKFold(train.label_idx, n_folds=config.n_folds)\n",
        "for i, (train_split, val_split) in enumerate(skf):\n",
        "    K.clear_session()\n",
        "    X, y, X_val, y_val = X_train[train_split], y_train[train_split], X_train[val_split], y_train[val_split]\n",
        "    checkpoint = ModelCheckpoint('best_%d.h5'%i, monitor='val_loss', verbose=1, save_best_only=True)\n",
        "    early = EarlyStopping(monitor=\"val_loss\", mode=\"min\", patience=5)\n",
        "    tb = TensorBoard(log_dir='./logs/' + PREDICTION_FOLDER + '/fold_%i'%i, write_graph=True)\n",
        "    callbacks_list = [checkpoint, early, tb]\n",
        "    print(\"#\"*50)\n",
        "    print(\"Fold: \", i)\n",
        "    model = get_2d_conv_model(config)\n",
        "    history = model.fit(X, y, validation_data=(X_val, y_val), callbacks=callbacks_list, \n",
        "                        batch_size=64, epochs=config.max_epochs)\n",
        "    model.load_weights('best_%d.h5'%i)\n",
        "\n",
        "    # Save train predictions\n",
        "    predictions = model.predict(X_train, batch_size=64, verbose=1)\n",
        "    np.save(PREDICTION_FOLDER + \"/train_predictions_%d.npy\"%i, predictions)\n",
        "\n",
        "    # Save test predictions\n",
        "    predictions = model.predict(X_test, batch_size=64, verbose=1)\n",
        "    np.save(PREDICTION_FOLDER + \"/test_predictions_%d.npy\"%i, predictions)\n",
        "\n",
        "    # Make a submission file\n",
        "    top_3 = np.array(LABELS)[np.argsort(-predictions, axis=1)[:, :3]]\n",
        "    predicted_labels = [' '.join(list(x)) for x in top_3]\n",
        "    test['label'] = predicted_labels\n",
        "    test[['label']].to_csv(PREDICTION_FOLDER + \"/predictions_%d.csv\"%i)\n",
        "```"
      ]
    },
    {
      "cell_type": "markdown",
      "metadata": {
        "_cell_guid": "4bd794b7-c09e-42d6-8f8a-158758921273",
        "_uuid": "b4421687f65fd8068c04fcdfdb419bf4f08c5f2c",
        "id": "5OES7KbYcSgj",
        "colab_type": "text"
      },
      "source": [
        "<a id=\"2d_ensembling\"></a>\n",
        "#### Ensembling 2D Conv Predictions"
      ]
    },
    {
      "cell_type": "code",
      "metadata": {
        "_cell_guid": "8c253178-6cde-4bad-835d-d09484f381ed",
        "_uuid": "e6868eb538b9fed874fcb02183d2edd348d38b5f",
        "collapsed": true,
        "trusted": false,
        "id": "BSKIsRNkcSgk",
        "colab_type": "code",
        "colab": {}
      },
      "source": [
        "pred_list = []\n",
        "for i in range(10):\n",
        "    pred_list.append(np.load(\"../input/freesound-prediction-data-2d-conv-reduced-lr/test_predictions_%d.npy\"%i))\n",
        "prediction = np.ones_like(pred_list[0])\n",
        "for pred in pred_list:\n",
        "    prediction = prediction*pred\n",
        "prediction = prediction**(1./len(pred_list))\n",
        "# Make a submission file\n",
        "top_3 = np.array(LABELS)[np.argsort(-prediction, axis=1)[:, :3]]\n",
        "predicted_labels = [' '.join(list(x)) for x in top_3]\n",
        "test = pd.read_csv('../input/freesound-audio-tagging/sample_submission.csv')\n",
        "test['label'] = predicted_labels\n",
        "test[['fname', 'label']].to_csv(\"2d_conv_ensembled_submission.csv\", index=False)"
      ],
      "execution_count": 0,
      "outputs": []
    },
    {
      "cell_type": "markdown",
      "metadata": {
        "_cell_guid": "b67760f2-f8cd-498a-b340-4910d8c443d3",
        "_uuid": "38feef2350dfa3c099bd6fb2e1a0b921716606a8",
        "id": "quhmygDJcSgs",
        "colab_type": "text"
      },
      "source": [
        "<a id=\"1d_2d_ensembling\"></a>\n",
        "## <center>5. Ensembling 1D Conv and 2D Conv Predictions</center>"
      ]
    },
    {
      "cell_type": "code",
      "metadata": {
        "_cell_guid": "12566257-72a5-4aa3-9e11-763c98489810",
        "_uuid": "448e8f9034d9d43a4642b1f441965b272425ba63",
        "trusted": false,
        "id": "XUDJZeWjcSgv",
        "colab_type": "code",
        "colab": {}
      },
      "source": [
        "pred_list = []\n",
        "for i in range(10):\n",
        "    pred_list.append(np.load(\"../input/freesound-prediction-data-2d-conv-reduced-lr/test_predictions_%d.npy\"%i))\n",
        "for i in range(10):\n",
        "    pred_list.append(np.load(\"../input/freesound-prediction-file/test_predictions_%d.npy\"%i))\n",
        "prediction = np.ones_like(pred_list[0])\n",
        "for pred in pred_list:\n",
        "    prediction = prediction*pred\n",
        "prediction = prediction**(1./len(pred_list))\n",
        "# Make a submission file\n",
        "top_3 = np.array(LABELS)[np.argsort(-prediction, axis=1)[:, :3]]\n",
        "predicted_labels = [' '.join(list(x)) for x in top_3]\n",
        "test = pd.read_csv('../input/freesound-audio-tagging/sample_submission.csv')\n",
        "test['label'] = predicted_labels\n",
        "test[['fname', 'label']].to_csv(\"1d_2d_ensembled_submission.csv\", index=False)"
      ],
      "execution_count": 0,
      "outputs": []
    },
    {
      "cell_type": "markdown",
      "metadata": {
        "_cell_guid": "34e4b1a5-49ac-49ff-a9cd-9b341d784e9b",
        "_uuid": "836b4a9008b4a239f3c41d8f3997bd49fa3c2280",
        "id": "MyQIxnQhcSgz",
        "colab_type": "text"
      },
      "source": [
        "<a id=\"conclusion\"></a>\n",
        "## <center>Results and Conclusion</center>"
      ]
    },
    {
      "cell_type": "markdown",
      "metadata": {
        "_cell_guid": "1f6bb71f-f461-414c-90d1-725c03f368ff",
        "_uuid": "01cfbfa163adb3da8b7b7da3310fb9e38ce0d478",
        "collapsed": true,
        "id": "MkcFjQMgcSg0",
        "colab_type": "text"
      },
      "source": [
        "So far, we have trained two models. Let's analyze their relative complexity and strength.\n",
        "\n",
        "\n",
        "\n",
        "| Model        | Number of Trainable parameters           | Public LB score  |\n",
        "| ------------- |:-------------:| -----:|\n",
        "| 1D Conv on Raw wave      | 360,513 | 0.809 |\n",
        "| 2D Conv on MFCC (verified labels only)    | 168,361  |   0.785 |\n",
        "| 2D Conv on MFCC     | 168,361  |   0.844 |\n",
        "| 1D Conv + 2D Conv Ensemble     | N/A  |   0.895 |\n",
        "\n",
        "**As we can see, 2D Convolution on MFCC performs better than 1D Convolution on Raw waves.**"
      ]
    },
    {
      "cell_type": "markdown",
      "metadata": {
        "_cell_guid": "78397951-3d15-45c1-bc29-17c853d7adf5",
        "_uuid": "b8db90dc506d23d6241c606ca03fd1762f38f36f",
        "id": "_gPpGVLHcSg1",
        "colab_type": "text"
      },
      "source": [
        "## Coming Soon\n",
        "\n",
        "1. Data Augmentation\n",
        "2. Training on Manually Verified Labels"
      ]
    }
  ]
}